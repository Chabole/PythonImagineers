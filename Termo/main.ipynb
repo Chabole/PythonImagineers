{
 "cells": [
  {
   "cell_type": "code",
   "execution_count": 12,
   "metadata": {},
   "outputs": [
    {
     "data": {
      "text/html": [
       "<div>\n",
       "<style scoped>\n",
       "    .dataframe tbody tr th:only-of-type {\n",
       "        vertical-align: middle;\n",
       "    }\n",
       "\n",
       "    .dataframe tbody tr th {\n",
       "        vertical-align: top;\n",
       "    }\n",
       "\n",
       "    .dataframe thead th {\n",
       "        text-align: right;\n",
       "    }\n",
       "</style>\n",
       "<table border=\"1\" class=\"dataframe\">\n",
       "  <thead>\n",
       "    <tr style=\"text-align: right;\">\n",
       "      <th></th>\n",
       "      <th>T</th>\n",
       "      <th>h</th>\n",
       "      <th>u</th>\n",
       "      <th>s</th>\n",
       "      <th>pr</th>\n",
       "      <th>vr</th>\n",
       "    </tr>\n",
       "  </thead>\n",
       "  <tbody>\n",
       "    <tr>\n",
       "      <th>0</th>\n",
       "      <td>200</td>\n",
       "      <td>199.97</td>\n",
       "      <td>142.56</td>\n",
       "      <td>1.29559</td>\n",
       "      <td>0.3363</td>\n",
       "      <td>1707.000</td>\n",
       "    </tr>\n",
       "    <tr>\n",
       "      <th>1</th>\n",
       "      <td>210</td>\n",
       "      <td>209.97</td>\n",
       "      <td>149.69</td>\n",
       "      <td>1.34444</td>\n",
       "      <td>0.3987</td>\n",
       "      <td>1512.000</td>\n",
       "    </tr>\n",
       "    <tr>\n",
       "      <th>2</th>\n",
       "      <td>220</td>\n",
       "      <td>219.97</td>\n",
       "      <td>156.82</td>\n",
       "      <td>1.39105</td>\n",
       "      <td>0.4690</td>\n",
       "      <td>1346.000</td>\n",
       "    </tr>\n",
       "    <tr>\n",
       "      <th>3</th>\n",
       "      <td>230</td>\n",
       "      <td>230.02</td>\n",
       "      <td>164.00</td>\n",
       "      <td>1.43557</td>\n",
       "      <td>0.5477</td>\n",
       "      <td>1205.000</td>\n",
       "    </tr>\n",
       "    <tr>\n",
       "      <th>4</th>\n",
       "      <td>240</td>\n",
       "      <td>240.02</td>\n",
       "      <td>171.13</td>\n",
       "      <td>1.47824</td>\n",
       "      <td>0.6355</td>\n",
       "      <td>1084.000</td>\n",
       "    </tr>\n",
       "    <tr>\n",
       "      <th>...</th>\n",
       "      <td>...</td>\n",
       "      <td>...</td>\n",
       "      <td>...</td>\n",
       "      <td>...</td>\n",
       "      <td>...</td>\n",
       "      <td>...</td>\n",
       "    </tr>\n",
       "    <tr>\n",
       "      <th>117</th>\n",
       "      <td>2050</td>\n",
       "      <td>2314.60</td>\n",
       "      <td>1726.80</td>\n",
       "      <td>3.83030</td>\n",
       "      <td>2303.0000</td>\n",
       "      <td>2.555</td>\n",
       "    </tr>\n",
       "    <tr>\n",
       "      <th>118</th>\n",
       "      <td>2100</td>\n",
       "      <td>2377.40</td>\n",
       "      <td>1775.30</td>\n",
       "      <td>3.86050</td>\n",
       "      <td>2559.0000</td>\n",
       "      <td>2.356</td>\n",
       "    </tr>\n",
       "    <tr>\n",
       "      <th>119</th>\n",
       "      <td>2150</td>\n",
       "      <td>2440.30</td>\n",
       "      <td>1823.80</td>\n",
       "      <td>3.89010</td>\n",
       "      <td>2837.0000</td>\n",
       "      <td>2.175</td>\n",
       "    </tr>\n",
       "    <tr>\n",
       "      <th>120</th>\n",
       "      <td>2200</td>\n",
       "      <td>2503.20</td>\n",
       "      <td>1872.40</td>\n",
       "      <td>3.91910</td>\n",
       "      <td>3138.0000</td>\n",
       "      <td>2.012</td>\n",
       "    </tr>\n",
       "    <tr>\n",
       "      <th>121</th>\n",
       "      <td>2250</td>\n",
       "      <td>2566.40</td>\n",
       "      <td>1921.30</td>\n",
       "      <td>3.94740</td>\n",
       "      <td>3464.0000</td>\n",
       "      <td>1.864</td>\n",
       "    </tr>\n",
       "  </tbody>\n",
       "</table>\n",
       "<p>122 rows × 6 columns</p>\n",
       "</div>"
      ],
      "text/plain": [
       "        T        h        u        s         pr        vr\n",
       "0     200   199.97   142.56  1.29559     0.3363  1707.000\n",
       "1     210   209.97   149.69  1.34444     0.3987  1512.000\n",
       "2     220   219.97   156.82  1.39105     0.4690  1346.000\n",
       "3     230   230.02   164.00  1.43557     0.5477  1205.000\n",
       "4     240   240.02   171.13  1.47824     0.6355  1084.000\n",
       "..    ...      ...      ...      ...        ...       ...\n",
       "117  2050  2314.60  1726.80  3.83030  2303.0000     2.555\n",
       "118  2100  2377.40  1775.30  3.86050  2559.0000     2.356\n",
       "119  2150  2440.30  1823.80  3.89010  2837.0000     2.175\n",
       "120  2200  2503.20  1872.40  3.91910  3138.0000     2.012\n",
       "121  2250  2566.40  1921.30  3.94740  3464.0000     1.864\n",
       "\n",
       "[122 rows x 6 columns]"
      ]
     },
     "execution_count": 12,
     "metadata": {},
     "output_type": "execute_result"
    }
   ],
   "source": [
    "import pandas as pd\n",
    "import numpy as np\n",
    "import ZebraLib as zb\n",
    "\n",
    "df = pd.read_excel('D:/UNESP/PythonImagineers/Termo/ideal_air_data.xlsx')\n",
    "df"
   ]
  },
  {
   "cell_type": "code",
   "execution_count": 17,
   "metadata": {},
   "outputs": [],
   "source": [
    "R = df['T'].values"
   ]
  },
  {
   "cell_type": "code",
   "execution_count": 18,
   "metadata": {},
   "outputs": [
    {
     "data": {
      "text/plain": [
       "200"
      ]
     },
     "execution_count": 18,
     "metadata": {},
     "output_type": "execute_result"
    }
   ],
   "source": [
    "R[0]"
   ]
  },
  {
   "cell_type": "code",
   "execution_count": 6,
   "metadata": {},
   "outputs": [
    {
     "data": {
      "text/html": [
       "<div>\n",
       "<style scoped>\n",
       "    .dataframe tbody tr th:only-of-type {\n",
       "        vertical-align: middle;\n",
       "    }\n",
       "\n",
       "    .dataframe tbody tr th {\n",
       "        vertical-align: top;\n",
       "    }\n",
       "\n",
       "    .dataframe thead th {\n",
       "        text-align: right;\n",
       "    }\n",
       "</style>\n",
       "<table border=\"1\" class=\"dataframe\">\n",
       "  <thead>\n",
       "    <tr style=\"text-align: right;\">\n",
       "      <th></th>\n",
       "      <th>T</th>\n",
       "      <th>h</th>\n",
       "      <th>u</th>\n",
       "      <th>s</th>\n",
       "      <th>pr</th>\n",
       "      <th>vr</th>\n",
       "    </tr>\n",
       "  </thead>\n",
       "  <tbody>\n",
       "    <tr>\n",
       "      <th>0</th>\n",
       "      <td>200</td>\n",
       "      <td>199.97</td>\n",
       "      <td>142.56</td>\n",
       "      <td>1.29559</td>\n",
       "      <td>0.3363</td>\n",
       "      <td>1707.0</td>\n",
       "    </tr>\n",
       "  </tbody>\n",
       "</table>\n",
       "</div>"
      ],
      "text/plain": [
       "     T       h       u        s      pr      vr\n",
       "0  200  199.97  142.56  1.29559  0.3363  1707.0"
      ]
     },
     "execution_count": 6,
     "metadata": {},
     "output_type": "execute_result"
    }
   ],
   "source": [
    "df[df['T']==200]"
   ]
  },
  {
   "cell_type": "code",
   "execution_count": 10,
   "metadata": {},
   "outputs": [
    {
     "data": {
      "text/plain": [
       "array([199.97])"
      ]
     },
     "execution_count": 10,
     "metadata": {},
     "output_type": "execute_result"
    }
   ],
   "source": [
    "df[df['T']==200]['h'].values"
   ]
  },
  {
   "cell_type": "code",
   "execution_count": 11,
   "metadata": {},
   "outputs": [
    {
     "data": {
      "text/plain": [
       "199.97"
      ]
     },
     "execution_count": 11,
     "metadata": {},
     "output_type": "execute_result"
    }
   ],
   "source": [
    "float(df[df['T']==200]['h'].values)"
   ]
  },
  {
   "cell_type": "code",
   "execution_count": 2,
   "metadata": {},
   "outputs": [
    {
     "data": {
      "text/html": [
       "<div>\n",
       "<style scoped>\n",
       "    .dataframe tbody tr th:only-of-type {\n",
       "        vertical-align: middle;\n",
       "    }\n",
       "\n",
       "    .dataframe tbody tr th {\n",
       "        vertical-align: top;\n",
       "    }\n",
       "\n",
       "    .dataframe thead th {\n",
       "        text-align: right;\n",
       "    }\n",
       "</style>\n",
       "<table border=\"1\" class=\"dataframe\">\n",
       "  <thead>\n",
       "    <tr style=\"text-align: right;\">\n",
       "      <th></th>\n",
       "      <th>T</th>\n",
       "      <th>h</th>\n",
       "      <th>u</th>\n",
       "      <th>s</th>\n",
       "      <th>pr</th>\n",
       "      <th>vr</th>\n",
       "    </tr>\n",
       "  </thead>\n",
       "  <tbody>\n",
       "    <tr>\n",
       "      <th>0</th>\n",
       "      <td>887.012</td>\n",
       "      <td>918.3748</td>\n",
       "      <td>663.7524</td>\n",
       "      <td>2.8324</td>\n",
       "      <td>71.045</td>\n",
       "      <td>35.73</td>\n",
       "    </tr>\n",
       "  </tbody>\n",
       "</table>\n",
       "</div>"
      ],
      "text/plain": [
       "         T         h         u       s      pr     vr\n",
       "0  887.012  918.3748  663.7524  2.8324  71.045  35.73"
      ]
     },
     "execution_count": 2,
     "metadata": {},
     "output_type": "execute_result"
    }
   ],
   "source": [
    "import air \n",
    "air.linear_regression(['vr', 35.73])"
   ]
  },
  {
   "cell_type": "code",
   "execution_count": 52,
   "metadata": {},
   "outputs": [],
   "source": [
    "from sympy import *\n",
    "from sympy.abc import *\n",
    "import numpy as np\n",
    "\n",
    "Ks, Kw, Fmin, Fmax, Fm, Sf, Fa = symbols(\"K_s K_w F_{min} F_{max} F_m S_f F_a\") \n",
    "\n",
    "Y = ((d**(b+2))*0.67*np.pi*A)\n",
    "Z = (Y/(8*C)) - Ks*Fmin\n",
    "X = Ks*(Fm-Fmin) + (1.34*((A*d**b)/Sf)-1)*Kw*Fa"
   ]
  },
  {
   "cell_type": "code",
   "execution_count": 62,
   "metadata": {},
   "outputs": [
    {
     "data": {
      "text/latex": [
       "$\\displaystyle 627.871366196144$"
      ],
      "text/plain": [
       "627.871366196144"
      ]
     },
     "execution_count": 62,
     "metadata": {},
     "output_type": "execute_result"
    }
   ],
   "source": [
    "X.subs({C:8, d:5, b:-0.1625, Fmin:100, Ks:1.0625, Kw:1.1853, Fa:75, Fm:175, Sf:310, A:2153.5})"
   ]
  },
  {
   "cell_type": "code",
   "execution_count": 54,
   "metadata": {},
   "outputs": [
    {
     "data": {
      "text/latex": [
       "$\\displaystyle \\frac{\\frac{0.263108384738145 A d^{b + 2}}{C} - F_{min} K_{s}}{F_{a} K_{w} \\left(\\frac{1.34 A d^{b}}{S_{f}} - 1\\right) + K_{s} \\left(F_{m} - F_{min}\\right)}$"
      ],
      "text/plain": [
       "(0.263108384738145*A*d**(b + 2)/C - F_{min}*K_s)/(F_a*K_w*(1.34*A*d**b/S_f - 1) + K_s*(F_m - F_{min}))"
      ]
     },
     "execution_count": 54,
     "metadata": {},
     "output_type": "execute_result"
    }
   ],
   "source": [
    "e = Z/X\n",
    "e"
   ]
  },
  {
   "cell_type": "code",
   "execution_count": 57,
   "metadata": {},
   "outputs": [
    {
     "data": {
      "text/latex": [
       "$\\displaystyle 2.002$"
      ],
      "text/plain": [
       "2.002"
      ]
     },
     "execution_count": 57,
     "metadata": {},
     "output_type": "execute_result"
    }
   ],
   "source": [
    "er = e.subs({C:8, d:5, b:-0.1625, Fmin:100, Ks:1.0625, Kw:1.1853, Fa:75, Fm:175, Sf:310, A:2153.5})\n",
    "er.evalf(4).simplify()"
   ]
  },
  {
   "cell_type": "code",
   "execution_count": 56,
   "metadata": {},
   "outputs": [
    {
     "data": {
      "text/plain": [
       "[]"
      ]
     },
     "execution_count": 56,
     "metadata": {},
     "output_type": "execute_result"
    }
   ],
   "source": [
    "solve(er)"
   ]
  },
  {
   "cell_type": "code",
   "execution_count": null,
   "metadata": {},
   "outputs": [],
   "source": []
  }
 ],
 "metadata": {
  "interpreter": {
   "hash": "894588d70223105318f3a6143f469ff55b12e3d45628534b2f37efc006a33ec3"
  },
  "kernelspec": {
   "display_name": "Python 3.8.8 64-bit ('base': conda)",
   "language": "python",
   "name": "python3"
  },
  "language_info": {
   "codemirror_mode": {
    "name": "ipython",
    "version": 3
   },
   "file_extension": ".py",
   "mimetype": "text/x-python",
   "name": "python",
   "nbconvert_exporter": "python",
   "pygments_lexer": "ipython3",
   "version": "3.8.8"
  },
  "orig_nbformat": 4
 },
 "nbformat": 4,
 "nbformat_minor": 2
}
